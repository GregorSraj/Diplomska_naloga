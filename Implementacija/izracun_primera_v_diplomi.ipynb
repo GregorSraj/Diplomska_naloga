{
 "cells": [
  {
   "cell_type": "code",
   "execution_count": 7,
   "metadata": {},
   "outputs": [],
   "source": [
    "import numpy as np\n",
    "import cv2\n",
    "import sys\n",
    "from matplotlib import pyplot as plt\n",
    "from tqdm import tqdm\n",
    "import math\n",
    "import scipy.fftpack"
   ]
  },
  {
   "cell_type": "markdown",
   "metadata": {},
   "source": [
    "# Izračun dct in kvantizacije primera"
   ]
  },
  {
   "cell_type": "code",
   "execution_count": 8,
   "metadata": {},
   "outputs": [
    {
     "name": "stdout",
     "output_type": "stream",
     "text": [
      "[[54 33 24 36 37 43 60 63]\n",
      " [32 29 41 48 51 49 53 61]\n",
      " [45 48 51 52 59 54 41 47]\n",
      " [62 58 55 48 54 56 41 36]\n",
      " [57 67 61 50 48 55 52 39]\n",
      " [57 62 61 57 49 47 49 42]\n",
      " [56 43 54 57 52 46 44 46]\n",
      " [47 58 51 50 52 54 53 56]]\n",
      "[[399.1   3.5  -0.7   4.2   0.9   0.3   1.8   0. ]\n",
      " [-20.6 -27.3   9.3   6.1   9.8   2.3   1.1   1. ]\n",
      " [-15.1 -35.   15.4  -4.2  14.7   5.6  -3.1  -0.5]\n",
      " [ -2.7   3.8  15.3  -0.6  -0.9  12.   -5.2   0.3]\n",
      " [  3.4   4.7  16.6  10.   -8.9  -1.9  -4.   -2.8]\n",
      " [ -4.8  10.9   3.4   9.1  10.1   4.1   4.1   1.1]\n",
      " [  5.    5.7   3.9   0.3  -3.3  -4.4  -4.6  -2.5]\n",
      " [  0.2  -0.4  -0.    0.3  -0.2  -0.   -0.   -0.3]]\n",
      "[[25.  0. -0.  0.  0.  0.  0.  0.]\n",
      " [-2. -2.  1.  0.  0.  0.  0.  0.]\n",
      " [-1. -3.  1. -0.  0.  0. -0. -0.]\n",
      " [-0.  0.  1. -0. -0.  0. -0.  0.]\n",
      " [ 0.  0.  0.  0. -0. -0. -0. -0.]\n",
      " [-0.  0.  0.  0.  0.  0.  0.  0.]\n",
      " [ 0.  0.  0.  0. -0. -0. -0. -0.]\n",
      " [ 0. -0. -0.  0. -0. -0. -0. -0.]]\n"
     ]
    }
   ],
   "source": [
    "I = cv2.imread('images/lena.png')\n",
    "I_gray = cv2.cvtColor(I, cv2.COLOR_BGR2GRAY)\n",
    "\n",
    "izsek = I_gray[120:128, 230:238]\n",
    "print(izsek-128)\n",
    "dct_izsek = np.array(scipy.fftpack.dctn(izsek-128, norm = 'ortho'))\n",
    "np.set_printoptions(suppress=True)\n",
    "print(np.round(dct_izsek, decimals=1))\n",
    "\n",
    "quantize_table = np.array([\n",
    "[16, 11, 10, 16,  24,  40,  51, 61],\n",
    "[12, 12, 14, 19,  26,  58,  60, 55],\n",
    "[14, 13, 16, 24,  40,  57,  69, 56],\n",
    "[14, 17, 22, 29,  51,  87,  80, 12],\n",
    "[18, 22, 37, 56,  68, 109, 103, 77],\n",
    "[24, 35, 55, 64,  81, 104, 113, 92],\n",
    "[49, 64, 78, 87, 103, 121, 120, 10],\n",
    "[72, 92, 95, 98, 112, 100, 103, 99],\n",
    "])\n",
    "\n",
    "quantize_izsek = np.round(np.divide(dct_izsek, quantize_table))\n",
    "\n",
    "print(quantize_izsek)\n",
    "\n",
    "\n"
   ]
  },
  {
   "cell_type": "markdown",
   "metadata": {},
   "source": [
    "# Izračun inverzne dct in dekvantizacije primera"
   ]
  },
  {
   "cell_type": "code",
   "execution_count": 9,
   "metadata": {},
   "outputs": [
    {
     "name": "stdout",
     "output_type": "stream",
     "text": [
      "[[400.   0.  -0.   0.   0.   0.   0.   0.]\n",
      " [-24. -24.  14.   0.   0.   0.   0.   0.]\n",
      " [-14. -39.  16.  -0.   0.   0.  -0.  -0.]\n",
      " [ -0.   0.  22.  -0.  -0.   0.  -0.   0.]\n",
      " [  0.   0.   0.   0.  -0.  -0.  -0.  -0.]\n",
      " [ -0.   0.   0.   0.   0.   0.   0.   0.]\n",
      " [  0.   0.   0.   0.  -0.  -0.  -0.  -0.]\n",
      " [  0.  -0.  -0.   0.  -0.  -0.  -0.  -0.]]\n",
      "[[40 36 31 30 36 47 60 69]\n",
      " [40 40 39 41 44 49 54 57]\n",
      " [44 47 51 53 53 50 46 44]\n",
      " [54 56 58 59 56 49 43 38]\n",
      " [62 61 59 56 52 48 44 42]\n",
      " [62 60 56 53 50 49 48 48]\n",
      " [54 54 53 53 53 52 51 51]\n",
      " [45 48 52 55 56 55 53 51]]\n",
      "[[168 164 159 158 164 175 188 197]\n",
      " [168 168 167 169 172 177 182 185]\n",
      " [172 175 179 181 181 178 174 172]\n",
      " [182 184 186 187 184 177 171 166]\n",
      " [190 189 187 184 180 176 172 170]\n",
      " [190 188 184 181 178 177 176 176]\n",
      " [182 182 181 181 181 180 179 179]\n",
      " [173 176 180 183 184 183 181 179]]\n",
      "[[ 14  -3  -7   6   1  -4   0  -6]\n",
      " [ -8 -11   2   7   7   0  -1   4]\n",
      " [  1   1   0  -1   6   4  -5   3]\n",
      " [  8   2  -3 -11  -2   7  -2  -2]\n",
      " [ -5   6   2  -6  -4   7   8  -3]\n",
      " [ -5   2   5   4  -1  -2   1  -6]\n",
      " [  2 -11   1   4  -1  -6  -7  -5]\n",
      " [  2  10  -1  -5  -4  -1   0   5]]\n"
     ]
    }
   ],
   "source": [
    "dequantize_izsek = np.multiply(quantize_izsek, quantize_table)\n",
    "print(dequantize_izsek)\n",
    "\n",
    "dct_izsek_priblizek = np.round(np.array(scipy.fftpack.idctn(dequantize_izsek, norm = 'ortho'))).astype(int)\n",
    "print(dct_izsek_priblizek)\n",
    "\n",
    "priblizek = dct_izsek_priblizek+128\n",
    "print(priblizek)\n",
    "\n",
    "napaka = izsek.astype(int) - priblizek\n",
    "print(napaka)"
   ]
  },
  {
   "cell_type": "markdown",
   "metadata": {},
   "source": [
    "# Izris primera"
   ]
  },
  {
   "cell_type": "code",
   "execution_count": 10,
   "metadata": {},
   "outputs": [
    {
     "data": {
      "text/plain": [
       "<Figure size 6000x4000 with 0 Axes>"
      ]
     },
     "metadata": {},
     "output_type": "display_data"
    },
    {
     "data": {
      "image/png": "[encoded data removed]",
      "text/plain": [
       "<Figure size 432x288 with 3 Axes>"
      ]
     },
     "metadata": {
      "needs_background": "light"
     },
     "output_type": "display_data"
    }
   ],
   "source": [
    "plt.figure(dpi=1000)\n",
    "fig = plt.figure()\n",
    "ax = fig.add_subplot(131)\n",
    "ax.set_xticks([0,2,4,6])\n",
    "ax.set_xticklabels(['0', '2', '4', '6' ])\n",
    "plt.subplot(1, 3, 1)\n",
    "plt.tight_layout()\n",
    "plt.imshow(izsek.astype(np.uint8), cmap = \"gray\", vmin=0, vmax=255)\n",
    "plt.title(\"Orginalen izsek slike\")\n",
    "\n",
    "ax = fig.add_subplot(132)\n",
    "ax.set_xticks([0,2,4,6])\n",
    "ax.set_xticklabels(['0', '2', '4', '6' ])\n",
    "plt.subplot(1, 3, 2)\n",
    "plt.tight_layout()\n",
    "plt.imshow(priblizek.astype(np.uint8), cmap = \"gray\", vmin=0, vmax=255)\n",
    "plt.title(\"Približek izseka\")\n",
    "\n",
    "ax = fig.add_subplot(133)\n",
    "ax.set_xticks([0,2,4,6])\n",
    "ax.set_xticklabels(['0', '2', '4', '6' ])\n",
    "plt.subplot(1, 3, 3)\n",
    "plt.tight_layout()\n",
    "plt.imshow(np.absolute(napaka).astype(np.uint8), cmap = \"gray\", vmin=0, vmax=255)\n",
    "plt.title(\"napaka\")\n",
    "\n",
    "plt.savefig('output\\izsek_primerjava_napaka_Primera.pdf')\n",
    "plt.show()\n"
   ]
  }
 ],
 "metadata": {
  "interpreter": {
   "hash": "745218106d6ce075399cbea9a6a27b1813241f37fa93602ebefd48ffe3dbadcb"
  },
  "kernelspec": {
   "display_name": "Python 3.8.8 64-bit ('base': conda)",
   "name": "python3"
  },
  "language_info": {
   "codemirror_mode": {
    "name": "ipython",
    "version": 3
   },
   "file_extension": ".py",
   "mimetype": "text/x-python",
   "name": "python",
   "nbconvert_exporter": "python",
   "pygments_lexer": "ipython3",
   "version": "3.8.10"
  },
  "orig_nbformat": 4
 },
 "nbformat": 4,
 "nbformat_minor": 2
}
